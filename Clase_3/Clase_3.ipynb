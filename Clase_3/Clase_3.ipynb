{
 "cells": [
  {
   "cell_type": "markdown",
   "metadata": {},
   "source": [
    "### Clase 3"
   ]
  },
  {
   "cell_type": "markdown",
   "metadata": {},
   "source": [
    "#### Sección 3"
   ]
  },
  {
   "cell_type": "code",
   "execution_count": 2,
   "metadata": {},
   "outputs": [],
   "source": [
    "import csv\n",
    "import os\n",
    "import numpy as np\n",
    "import pandas as pd\n",
    "from numpy.typing import ArrayLike\n",
    "from IPython.display import display, Markdown\n",
    "import matplotlib.pyplot as plt"
   ]
  },
  {
   "cell_type": "markdown",
   "metadata": {},
   "source": [
    "Cargamos el conjunto de datos como una listas de listas."
   ]
  },
  {
   "cell_type": "code",
   "execution_count": 3,
   "metadata": {},
   "outputs": [],
   "source": [
    "path = os.path.join('..','Datasets','GLT_filtrado.csv')\n",
    "\n",
    "conjunto = [[],[],[],[],[],[],[]]\n",
    "\n",
    "with open(path, 'r') as f:\n",
    "    data = list(csv.reader(f))\n",
    "\n",
    "    labels = data[0]\n",
    "\n",
    "    for i in data[1:]:\n",
    "        conjunto[0].append(i[0] if i[0]!='' else np.nan)\n",
    "        conjunto[1].append(float(i[1]) if i[1]!='' else np.nan)\n",
    "        conjunto[2].append(float(i[2]) if i[2]!='' else np.nan)\n",
    "        conjunto[3].append(i[3] if i[3]!='' else np.nan)\n",
    "        conjunto[4].append(i[4] if i[4]!='' else np.nan)\n",
    "        conjunto[5].append(i[5] if i[5]!='' else np.nan)\n",
    "        conjunto[6].append(i[6] if i[6]!='' else np.nan)"
   ]
  },
  {
   "cell_type": "markdown",
   "metadata": {},
   "source": [
    "Contestemos las siguientes preguntas:\n",
    "\n",
    "* ¿Tipo de dato de los atributos? <--- FALTA!!\n",
    "* ¿Cuántas entradas hay?\n",
    "* ¿Cuántas ciudades distintas?"
   ]
  },
  {
   "cell_type": "code",
   "execution_count": 4,
   "metadata": {},
   "outputs": [
    {
     "name": "stdout",
     "output_type": "stream",
     "text": [
      "Total de datos: 219575\n",
      "Tenemos 100 ciudades únicas.\n"
     ]
    }
   ],
   "source": [
    "# Total de datos\n",
    "total = len(data[1:])\n",
    "print(f'Total de datos: {total}')\n",
    "\n",
    "# El índice 3 de `conjunto`` corresponde a las ciudades\n",
    "ciudades_unicas = np.unique(conjunto[3])\n",
    "print(f\"Tenemos {len(ciudades_unicas)} ciudades únicas.\")\n",
    "\n"
   ]
  },
  {
   "cell_type": "markdown",
   "metadata": {},
   "source": [
    "¿Cuantos valores faltantes hay en el atributo AverageTemperature?"
   ]
  },
  {
   "cell_type": "code",
   "execution_count": 5,
   "metadata": {},
   "outputs": [
    {
     "name": "stdout",
     "output_type": "stream",
     "text": [
      "Hay 27581 valores faltantes en el atributo 'AverageTemperature'.\n",
      "Los datos faltantes representan el 12.56%\n",
      "--------------------------------------------------------------------------------\n",
      "Hay 0 valores faltantes en el atributo 'Date'\n",
      "Hay 27581 valores faltantes en el atributo 'AverageTemperatureUncertainty'\n",
      "Hay 0 valores faltantes en el atributo 'City'\n",
      "Hay 0 valores faltantes en el atributo 'Country'\n",
      "Hay 0 valores faltantes en el atributo 'Latitude'\n",
      "Hay 0 valores faltantes en el atributo 'Longitude'\n"
     ]
    }
   ],
   "source": [
    "# El índice 1 de `conjunto` corresponde a AverageTemperature\n",
    "faltan = np.count_nonzero(np.isnan(conjunto[1]))\n",
    "print(f\"Hay {faltan} valores faltantes en el atributo 'AverageTemperature'.\")\n",
    "print(f\"Los datos faltantes representan el {faltan*100/total:.2f}%\")\n",
    "print('-'*80)\n",
    "\n",
    "# Verificamos valores faltantes para los demás atributos\n",
    "for i in range(7):\n",
    "    if i==1:\n",
    "        continue\n",
    "    print(f\"Hay {np.count_nonzero(pd.isna(conjunto[i]))} valores faltantes en el atributo '{labels[i]}'\")   # pd.isna() para que no haya error en la iteración"
   ]
  },
  {
   "cell_type": "markdown",
   "metadata": {},
   "source": [
    "Como vemos, los valores faltantes para AverageTemperature (así como para AverageTemperatureUncertainty) representan el 12.56%\n",
    "\n",
    "En primera instancia no sabemos la ubicación de los valores faltantes en el conjunto de datos, es decir, hasta este punto no sabemos a qué fechas y/o ciudades les están faltando valores. El porcentaje que representan los valores faltantes es significativo pues afecta la distribución de la temperatura generando una importante dispersión en los datos. Se espera que esta distribución sea continua y suave en el tiempo pues esta es la naturaleza física del cambio en temperatura, es decir, sin saltos abruptos. Por ello, necesitamos aplicar una estrategia que nos permita rellenar de forma coherente los huecos faltantes para reducir el sesgo y dispersión, la cual se verá a continuación."
   ]
  },
  {
   "cell_type": "code",
   "execution_count": 6,
   "metadata": {},
   "outputs": [],
   "source": [
    "def llenar_faltantes(ar: ArrayLike) -> list[float]:\n",
    "    \"\"\"\n",
    "    La función toma un arreglo y llena cualquier vacío (NaN) con la media aritmética entre la medición antecedente más cercana y la medición sucesiva más cercana.\n",
    "    La función recorre el arreglo de izquierda a derecha. \n",
    "    En caso de que un valor NaN esté al inicio (final) del arreglo, se considera que a dicho valor le antecede (sigue) el valor 0 y se calcula la media con dicho valor.\n",
    "\n",
    "    :param ar: Arreglo de una dimensión\n",
    "\n",
    "    :return: Lista\n",
    "    \"\"\"\n",
    "    ar_copy = list(ar)\n",
    "    \n",
    "    for i,_ in enumerate(ar_copy):\n",
    "        if np.isnan(ar_copy[i]):\n",
    "            if i == 0:\n",
    "                anterior = 0\n",
    "            else: \n",
    "                anterior = ar_copy[i-1]\n",
    "\n",
    "            j = i\n",
    "            while np.isnan(ar_copy[j]):\n",
    "                if j == len(ar_copy)-1:\n",
    "                    siguiente = 0\n",
    "                    break\n",
    "                else:\n",
    "                    siguiente = ar_copy[j+1]\n",
    "                    j+=1\n",
    "\n",
    "            prom = (anterior + siguiente) / 2\n",
    "            ar_copy[i] = prom\n",
    "    \n",
    "    return ar_copy"
   ]
  },
  {
   "cell_type": "markdown",
   "metadata": {},
   "source": [
    "Probamos la función:\n",
    "\n",
    "- Primer ejemplo:\n",
    "\n",
    "    - La lista inicial es:\n",
    "    ```python\n",
    "        [ np.nan, 5, 6, np.nan ]\n",
    "    ```\n",
    "    - La lista final debe ser:\n",
    "    ```python\n",
    "        [ 2.5, 5, 6, 3 ]\n",
    "    ```\n",
    "- Segundo ejemplo:\n",
    "\n",
    "    - La lista inicial es:\n",
    "    ```python\n",
    "        [ np.nan, np.nan, 24, 28.9 ]\n",
    "    ```\n",
    "    - La lista final debe ser: \n",
    "    ```python\n",
    "        [ 12.0, 18.0, 24, 28.9 ]\n",
    "    ```\n",
    "\n",
    "> Nota: La función itera sobre cada elemento del arreglo para buscar valores NaN. Esto es un proceso tardado cuando se trata de arreglos grandes. Como solución se pueden obtener solamente los índices en donde hay valores NaN e iterar sobre estos. Esto se puede realizar con ``` np.where(np.isnan(Array))[0] ```"
   ]
  },
  {
   "cell_type": "code",
   "execution_count": 7,
   "metadata": {},
   "outputs": [
    {
     "name": "stdout",
     "output_type": "stream",
     "text": [
      "\n",
      "      Lista original --> lista final\n",
      "    [nan, 5, 6, nan] --> [2.5, 5, 6, 3.0]\n",
      "[nan, nan, 24, 28.9] --> [12.0, 18.0, 24, 28.9]\n",
      "\n"
     ]
    }
   ],
   "source": [
    "q_1 = [ np.nan, 5, 6, np.nan ]\n",
    "q_2 = [ np.nan, np.nan, 24, 28.9 ]\n",
    "\n",
    "Q_1 = llenar_faltantes(q_1)\n",
    "Q_2 = llenar_faltantes(q_2)\n",
    "\n",
    "print(f\"\"\"\n",
    "      Lista original --> lista final\n",
    "    {q_1} --> {Q_1}\n",
    "{q_2} --> {Q_2}\n",
    "\"\"\")"
   ]
  },
  {
   "cell_type": "markdown",
   "metadata": {},
   "source": [
    "Aplicamosa ahora la función `llenar_faltantes` al conjunto de datos `conjunto[1]` que corresponde a `AverageTemperature`"
   ]
  },
  {
   "cell_type": "code",
   "execution_count": 8,
   "metadata": {},
   "outputs": [],
   "source": [
    "AverageTemperature_full = llenar_faltantes(conjunto[1])"
   ]
  },
  {
   "cell_type": "code",
   "execution_count": 9,
   "metadata": {},
   "outputs": [],
   "source": [
    "q = [np.nan, np.nan,np.nan,24, np.nan,np.nan,np.nan]\n",
    "q = [np.nan, np.nan, np.nan,np.nan,100, np.nan, np.nan,np.nan]\n",
    "\n",
    "d = q\n",
    "flag = False\n",
    "i = 0\n",
    "k = 0\n",
    "\n",
    "while True:\n",
    "    if np.isnan(q[i]):\n",
    "        if i==0:\n",
    "            anterior = 0\n",
    "        else: \n",
    "            anterior = q[i-1]\n",
    "\n",
    "        j = i\n",
    "        while np.isnan(q[j]):\n",
    "            if j == len(q)-1:\n",
    "                siguiente = 0\n",
    "                flag = True\n",
    "                q.reverse()\n",
    "                k=i\n",
    "                i=0\n",
    "                break\n",
    "            else:\n",
    "                siguiente = q[j+1]\n",
    "                j+=1\n",
    "\n",
    "        prom = (anterior + siguiente) / 2\n",
    "        d[i] = prom\n",
    "\n",
    "    if i == len(q) - 1 and flag == False:\n",
    "        break\n",
    "    if i == len(q) - k - 1 and flag == True:  # i==7-4-1 = 2\n",
    "        q.reverse()\n",
    "        break\n",
    "\n",
    "    i+=1\n",
    "        \n",
    "# d"
   ]
  },
  {
   "cell_type": "markdown",
   "metadata": {},
   "source": [
    "#### Sección 4"
   ]
  },
  {
   "cell_type": "markdown",
   "metadata": {},
   "source": [
    "##### 4.1\n",
    "\n",
    "Encuentra la temperatura más caliente y más fría en estas ciudades: Cairo, Moscow, Peking, Rome, Mexico."
   ]
  },
  {
   "cell_type": "code",
   "execution_count": 52,
   "metadata": {},
   "outputs": [],
   "source": [
    "# El índice 3 de `conjunto` corresponde a City\n",
    "\n",
    "''' Cairo '''\n",
    "cairo_idx = np.where(np.array(conjunto[3])=='Cairo')[0]\n",
    "cairo_temp = np.array(AverageTemperature_full)[cairo_idx]\n",
    "\n",
    "''' Moscow '''\n",
    "moscow_idx = np.where(np.array(conjunto[3])=='Moscow')[0]\n",
    "moscow_temp = np.array(AverageTemperature_full)[moscow_idx]\n",
    "\n",
    "''' Peking '''\n",
    "peking_idx = np.where(np.array(conjunto[3])=='Peking')[0]\n",
    "peking_temp = np.array(AverageTemperature_full)[peking_idx]\n",
    "\n",
    "''' Rome '''\n",
    "rome_idx = np.where(np.array(conjunto[3])=='Rome')[0]\n",
    "rome_temp = np.array(AverageTemperature_full)[rome_idx]\n",
    "\n",
    "''' México '''\n",
    "mexico_idx = np.where(np.array(conjunto[3])=='Mexico')[0]\n",
    "mexico_temp = np.array(AverageTemperature_full)[mexico_idx]"
   ]
  },
  {
   "cell_type": "code",
   "execution_count": 11,
   "metadata": {},
   "outputs": [
    {
     "data": {
      "text/markdown": [
       "\n",
       "\n",
       "| Ciudad       | Temperatura Mínima     | Temperatura Máxima     |\n",
       "|--------------|------------------------|------------------------|\n",
       "| Cairo        | 10.326   | 30.767   |\n",
       "| Moscow       | -19.376  | 24.58  |\n",
       "| Peking       | -8.579  | 28.936  |\n",
       "| Rome         | -1.4410000000000005    | 25.951    |\n",
       "| México       | 9.127  | 21.0  |\n",
       "\n"
      ],
      "text/plain": [
       "<IPython.core.display.Markdown object>"
      ]
     },
     "metadata": {},
     "output_type": "display_data"
    }
   ],
   "source": [
    "markdown_text = f\"\"\"\n",
    "\n",
    "| Ciudad       | Temperatura Mínima     | Temperatura Máxima     |\n",
    "|--------------|------------------------|------------------------|\n",
    "| Cairo        | {np.min(cairo_temp)}   | {np.max(cairo_temp)}   |\n",
    "| Moscow       | {np.min(moscow_temp)}  | {np.max(moscow_temp)}  |\n",
    "| Peking       | {np.min(peking_temp)}  | {np.max(peking_temp)}  |\n",
    "| Rome         | {np.min(rome_temp)}    | {np.max(rome_temp)}    |\n",
    "| México       | {np.min(mexico_temp)}  | {np.max(mexico_temp)}  |\n",
    "\n",
    "\"\"\"\n",
    "\n",
    "display(Markdown(markdown_text))"
   ]
  },
  {
   "cell_type": "markdown",
   "metadata": {},
   "source": [
    "##### 4.2\n",
    "\n",
    "Hay una anomalía en la distribución de datos. Con la ayuda de Matplotlib, grafica la distribución de las temperaturas medias terrestres para Roma y Bangkok.\n",
    "\n",
    "> El número de bins se calcula  automáticamente con la opción `bins = 'auto'` <br>\n",
    "> Referencia: https://numpy.org/doc/stable/reference/generated/numpy.histogram_bin_edges.html"
   ]
  },
  {
   "cell_type": "code",
   "execution_count": null,
   "metadata": {},
   "outputs": [
    {
     "data": {
      "image/png": "[encoded data removed]",
      "text/plain": [
       "<Figure size 640x480 with 1 Axes>"
      ]
     },
     "metadata": {},
     "output_type": "display_data"
    },
    {
     "data": {
      "image/png": "[encoded data removed]",
      "text/plain": [
       "<Figure size 640x480 with 1 Axes>"
      ]
     },
     "metadata": {},
     "output_type": "display_data"
    }
   ],
   "source": [
    "''' Bangkok '''\n",
    "bangkok_idx = np.where(np.array(conjunto[3])=='Bangkok')[0]\n",
    "bangkok_temp = np.array(AverageTemperature_full)[bangkok_idx]\n",
    "\n",
    "\n",
    "''' General '''\n",
    "# plt.figure(figsize=(5,5))\n",
    "# plt.hist(np.array(AverageTemperature_full)[np.where(np.array(conjunto[3])=='Rome')[0]], bins='auto')\n",
    "# plt.xticks(rotation=90)\n",
    "# plt.show()\n",
    "\n",
    "color = ('Black', 0.6)\n",
    "plt.hist(rome_temp, bins='auto', edgecolor=color[0], alpha=color[1])\n",
    "plt.title('Distribución de temperaturas ciudad Roma')\n",
    "plt.xlabel('Temperatura')\n",
    "plt.show()\n",
    "\n",
    "plt.hist(bangkok_temp, bins='auto', color='green', edgecolor=color[0], alpha=color[1])\n",
    "plt.title('Distribución de temperaturas ciudad Bangkok')\n",
    "plt.xlabel('Temperatura')\n",
    "plt.show()\n",
    "\n",
    "\n",
    "# fig, ax = plt.subplots(2,1,figsize=(10,6))\n",
    "# color = ('Black', 0.6)\n",
    "# ax[0].hist(rome_temp, bins='auto', edgecolor=color[0], alpha=color[1])\n",
    "# ax[0].set_title('Distribución de temperaturas ciudad Roma')\n",
    "# ax[0].set_xlabel('Temperatura')\n",
    "# ax[1].hist(bangkok_temp, bins='auto', color='green', edgecolor=color[0], alpha=color[1])\n",
    "# ax[1].set_title('Distribución de temperaturas ciudad Bangkok')\n",
    "# ax[1].set_xlabel('Temperatura')\n",
    "\n",
    "# plt.tight_layout(h_pad=5)\n",
    "# plt.show()"
   ]
  },
  {
   "cell_type": "markdown",
   "metadata": {},
   "source": [
    "##### 4.3\n",
    "\n",
    "Como puedes ver, Roma y Bangkok tienen distribuciones de temperatura muy diferentes. Sin embargo, lo que resulta extraño es la gran diferencia en la magnitud de sus temperaturas. Es posible que todos los sensores de las\n",
    "estaciones de Bangkok estuvieran defectuosos? Qué crees que pudo haber sucedido aquí? Hay otras ciudades que presentan el mismo problema? Usa tu creatividad para analizarlo y proponer una explicación.\n",
    "\n",
    "El registro de temperaturas está en °F.\n",
    "Tener temperaturas por encima de 70 °C es demasiado."
   ]
  },
  {
   "cell_type": "markdown",
   "metadata": {},
   "source": [
    "Para revisar si hay otras ciudades presentando el mismo problema basta con encontrar el máximo del conjunto de temperaturas en el que no se considere a Bangkok. Si dentro del conjunto la temperatura más alta es razonable en unidades °C entonces no habrá otra ciudad dentro del conjunto de datos que esté en °F."
   ]
  },
  {
   "cell_type": "code",
   "execution_count": 133,
   "metadata": {},
   "outputs": [
    {
     "data": {
      "text/plain": [
       "np.float64(-26.772)"
      ]
     },
     "execution_count": 133,
     "metadata": {},
     "output_type": "execute_result"
    }
   ],
   "source": [
    "# Índices donde no está Bangkok\n",
    "idx = np.where(np.array(conjunto[3]) != 'Bangkok')[0]\n",
    "\n",
    "# Conjunto de temperaturas donde no están las de Bangkok\n",
    "temp = np.array(AverageTemperature_full)[idx]\n",
    "\n",
    "np.max(temp) # Solo Bangkok está con otras unidades: °F\n",
    "np.min(temp) # La ciudad más fría tiene un rango de temperaturas coherente."
   ]
  },
  {
   "cell_type": "markdown",
   "metadata": {},
   "source": [
    "##### 4.4\n",
    "\n",
    "Ahora sí, ya que lo encontraste, calcula la temperatura media anual para las siguientes ciudades: London, New York, Bangkok, Tokyo, Paris, Lima. Puedes agregar las ciudades que desees y que te interesen."
   ]
  },
  {
   "cell_type": "markdown",
   "metadata": {},
   "source": [
    "##### 4.5\n",
    "Identifica el top 5 de las ciudades donde el cambio climático ha sido más pronunciado desde el siglo XIX. Hay muchas maneras de abordar esta tarea. Empieza con graficar la temperatura promedio anual de cada ciudad y observar cuáles han tenido el mayor incremento, y después divide los datos en periodos de 5, 10, 25 años y observa cómo han cambiado las temperaturas medias."
   ]
  }
 ],
 "metadata": {
  "kernelspec": {
   "display_name": ".venv_cdd",
   "language": "python",
   "name": "python3"
  },
  "language_info": {
   "codemirror_mode": {
    "name": "ipython",
    "version": 3
   },
   "file_extension": ".py",
   "mimetype": "text/x-python",
   "name": "python",
   "nbconvert_exporter": "python",
   "pygments_lexer": "ipython3",
   "version": "3.12.0"
  }
 },
 "nbformat": 4,
 "nbformat_minor": 2
}
