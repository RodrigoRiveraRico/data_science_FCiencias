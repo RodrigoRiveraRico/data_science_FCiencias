{
 "cells": [
  {
   "cell_type": "markdown",
   "metadata": {},
   "source": [
    "### Clase 3"
   ]
  },
  {
   "cell_type": "code",
   "execution_count": 1,
   "metadata": {},
   "outputs": [],
   "source": [
    "import csv\n",
    "import os\n",
    "import numpy as np\n",
    "import pandas as pd"
   ]
  },
  {
   "cell_type": "markdown",
   "metadata": {},
   "source": [
    "Cargamos el conjunto de datos como una listas de listas."
   ]
  },
  {
   "cell_type": "code",
   "execution_count": 2,
   "metadata": {},
   "outputs": [],
   "source": [
    "path = os.path.join('..','Datasets','GLT_filtrado.csv')\n",
    "\n",
    "conjunto = [[],[],[],[],[],[],[]]\n",
    "\n",
    "with open(path, 'r') as f:\n",
    "    data = list(csv.reader(f))\n",
    "\n",
    "    labels = data[0]\n",
    "\n",
    "    for i in data[1:]:\n",
    "        conjunto[0].append(i[0] if i[0]!='' else np.nan)\n",
    "        conjunto[1].append(float(i[1]) if i[1]!='' else np.nan)\n",
    "        conjunto[2].append(float(i[2]) if i[2]!='' else np.nan)\n",
    "        conjunto[3].append(i[3] if i[3]!='' else np.nan)\n",
    "        conjunto[4].append(i[4] if i[4]!='' else np.nan)\n",
    "        conjunto[5].append(i[5] if i[5]!='' else np.nan)\n",
    "        conjunto[6].append(i[6] if i[6]!='' else np.nan)"
   ]
  },
  {
   "cell_type": "markdown",
   "metadata": {},
   "source": [
    "Contestemos las siguientes preguntas:\n",
    "\n",
    "* ¿Tipo de dato de los atributos?\n",
    "* ¿Cuántas entradas hay?\n",
    "* ¿Cuántas ciudades distintas?"
   ]
  },
  {
   "cell_type": "code",
   "execution_count": 3,
   "metadata": {},
   "outputs": [
    {
     "name": "stdout",
     "output_type": "stream",
     "text": [
      "Total de datos: 219575\n",
      "Tenemos 100 ciudades únicas.\n"
     ]
    }
   ],
   "source": [
    "# Total de datos\n",
    "total = len(data[1:])\n",
    "print(f'Total de datos: {total}')\n",
    "\n",
    "# El índice 3 de `conjunto`` corresponde a las ciudades\n",
    "ciudades_unicas = np.unique(conjunto[3])\n",
    "print(f\"Tenemos {len(ciudades_unicas)} ciudades únicas.\")\n",
    "\n"
   ]
  },
  {
   "cell_type": "markdown",
   "metadata": {},
   "source": [
    "¿Cuantos valores faltantes hay en el atributo AverageTemperature?"
   ]
  },
  {
   "cell_type": "code",
   "execution_count": 4,
   "metadata": {},
   "outputs": [
    {
     "name": "stdout",
     "output_type": "stream",
     "text": [
      "Hay 27581 valores faltantes en el atributo 'AverageTemperature'.\n",
      "Los datos faltantes representan el 12.56%\n",
      "--------------------------------------------------------------------------------\n",
      "Hay 0 valores faltantes en el atributo 'Date'\n",
      "Hay 27581 valores faltantes en el atributo 'AverageTemperatureUncertainty'\n",
      "Hay 0 valores faltantes en el atributo 'City'\n",
      "Hay 0 valores faltantes en el atributo 'Country'\n",
      "Hay 0 valores faltantes en el atributo 'Latitude'\n",
      "Hay 0 valores faltantes en el atributo 'Longitude'\n"
     ]
    }
   ],
   "source": [
    "# El índice 1 de `conjunto` corresponde a AverageTemperature\n",
    "faltan = np.count_nonzero(np.isnan(conjunto[1]))\n",
    "print(f\"Hay {faltan} valores faltantes en el atributo 'AverageTemperature'.\")\n",
    "print(f\"Los datos faltantes representan el {faltan*100/total:.2f}%\")\n",
    "print('-'*80)\n",
    "\n",
    "# Verificamos valores faltantes para los demás atributos\n",
    "for i in range(7):\n",
    "    if i==1:\n",
    "        continue\n",
    "    print(f\"Hay {np.count_nonzero(pd.isna(conjunto[i]))} valores faltantes en el atributo '{labels[i]}'\")"
   ]
  },
  {
   "cell_type": "markdown",
   "metadata": {},
   "source": [
    "Como vemos, los valores faltantes para AverageTemperature (así como para AverageTemperatureUncertainty) representan el 12.56%\n",
    "\n",
    "En primera instancia no sabemos la ubicación de los valores faltantes en el conjunto de datos, es decir, hasta este punto no sabemos a qué fechas y/o ciudades les están faltando valores. El porcentaje que representan los valores faltantes es significativo pues afecta la distribución de la temperatura generando una importante dispersión en los datos. Se espera que esta distribución sea continua y suave en el tiempo pues esta es la naturaleza física del cambio en temperatura, es decir, sin saltos abruptos. Por ello, necesitamos aplicar una estrategia que nos permita rellenar de forma coherente los huecos faltantes para reducir el sesgo y dispersión, la cual se verá a continuación."
   ]
  },
  {
   "cell_type": "code",
   "execution_count": 5,
   "metadata": {},
   "outputs": [],
   "source": [
    "def llenar_faltantes(ar):\n",
    "    ..."
   ]
  },
  {
   "cell_type": "code",
   "execution_count": 22,
   "metadata": {},
   "outputs": [
    {
     "name": "stdout",
     "output_type": "stream",
     "text": [
      "[2.5 5.  6.  3. ]\n"
     ]
    }
   ],
   "source": [
    "import numpy as np\n",
    "\n",
    "p = [ np.nan, 5, 6, np.nan ]\n",
    "\n",
    "p = np.array(p)  # Aseguramos que es un array de NumPy\n",
    "d = np.copy(p)   # Copia para almacenar los valores corregidos\n",
    "\n",
    "nan_indices = np.where(np.isnan(d))[0]  # Encuentra los índices donde hay NaN\n",
    "\n",
    "for i in nan_indices:\n",
    "    anterior = d[i-1] if i > 0 else 0  # Si es el primer elemento, usa 0\n",
    "\n",
    "    # Buscar el siguiente valor no NaN\n",
    "    j = i\n",
    "    while j < len(d) and np.isnan(d[j]):\n",
    "        j += 1\n",
    "    siguiente = d[j] if j < len(d) else 0  # Si llega al final, usa 0\n",
    "\n",
    "    d[i] = (anterior + siguiente) / 2  # Promedio\n",
    "\n",
    "print(d)\n"
   ]
  },
  {
   "cell_type": "code",
   "execution_count": 21,
   "metadata": {},
   "outputs": [
    {
     "data": {
      "text/plain": [
       "[2.5, 5, 6, 3.0]"
      ]
     },
     "execution_count": 21,
     "metadata": {},
     "output_type": "execute_result"
    }
   ],
   "source": [
    "# original_1\n",
    "p = [ np.nan, 5, 6, np.nan ]\n",
    "\n",
    "# original_2\n",
    "# p = [ np.nan, np.nan, 24, 28.9 ]\n",
    "\n",
    "# p = [np.nan, np.nan,24, np.nan, np.nan]\n",
    "# p = [12,np.nan, np.nan, 15,np.nan, 16]\n",
    "\n",
    "d = p\n",
    "for i in range(len(p)):\n",
    "    if p[i] is np.nan:\n",
    "        if i == 0:\n",
    "            anterior = 0\n",
    "        else: \n",
    "            anterior = p[i-1]\n",
    "\n",
    "        j = i\n",
    "        while p[j] is np.nan:\n",
    "            if j == len(p)-1:\n",
    "                siguiente = 0\n",
    "                break\n",
    "            else:\n",
    "                siguiente = p[j+1]\n",
    "                j+=1\n",
    "\n",
    "        prom = (anterior + siguiente) / 2\n",
    "        d[i] = prom\n",
    "        \n",
    "d"
   ]
  },
  {
   "cell_type": "code",
   "execution_count": 7,
   "metadata": {},
   "outputs": [
    {
     "name": "stdout",
     "output_type": "stream",
     "text": [
      "0\n"
     ]
    },
    {
     "ename": "NameError",
     "evalue": "name 'k' is not defined",
     "output_type": "error",
     "traceback": [
      "\u001b[1;31m---------------------------------------------------------------------------\u001b[0m",
      "\u001b[1;31mNameError\u001b[0m                                 Traceback (most recent call last)",
      "Cell \u001b[1;32mIn[7], line 34\u001b[0m\n\u001b[0;32m     32\u001b[0m \u001b[38;5;28;01mif\u001b[39;00m i \u001b[38;5;241m==\u001b[39m \u001b[38;5;28mlen\u001b[39m(p) \u001b[38;5;241m-\u001b[39m \u001b[38;5;241m1\u001b[39m \u001b[38;5;129;01mand\u001b[39;00m flag \u001b[38;5;241m==\u001b[39m \u001b[38;5;28;01mFalse\u001b[39;00m:\n\u001b[0;32m     33\u001b[0m     \u001b[38;5;28;01mbreak\u001b[39;00m\n\u001b[1;32m---> 34\u001b[0m \u001b[38;5;28;01mif\u001b[39;00m i \u001b[38;5;241m==\u001b[39m \u001b[38;5;28mlen\u001b[39m(p) \u001b[38;5;241m-\u001b[39m \u001b[43mk\u001b[49m \u001b[38;5;241m-\u001b[39m \u001b[38;5;241m1\u001b[39m \u001b[38;5;129;01mand\u001b[39;00m flag \u001b[38;5;241m==\u001b[39m \u001b[38;5;28;01mTrue\u001b[39;00m:  \u001b[38;5;66;03m# i==7-4-1 = 2\u001b[39;00m\n\u001b[0;32m     35\u001b[0m     p\u001b[38;5;241m.\u001b[39mreverse()\n\u001b[0;32m     36\u001b[0m     \u001b[38;5;28;01mbreak\u001b[39;00m\n",
      "\u001b[1;31mNameError\u001b[0m: name 'k' is not defined"
     ]
    }
   ],
   "source": [
    "p = [np.nan, np.nan,np.nan,24, np.nan,np.nan,np.nan]\n",
    "p = [np.nan, np.nan, np.nan,np.nan,100, np.nan, np.nan,np.nan]\n",
    "\n",
    "d = p\n",
    "flag = False\n",
    "i = 0\n",
    "\n",
    "while True:\n",
    "    print(i)\n",
    "    if p[i] is np.nan:\n",
    "        if i==0:\n",
    "            anterior = 0\n",
    "        else: \n",
    "            anterior = p[i-1]\n",
    "\n",
    "        j = i\n",
    "        while p[j] is np.nan:\n",
    "            if j == len(p)-1:\n",
    "                siguiente = 0\n",
    "                flag = True\n",
    "                p.reverse()\n",
    "                k=i\n",
    "                i=0\n",
    "                break\n",
    "            else:\n",
    "                siguiente = p[j+1]\n",
    "                j+=1\n",
    "\n",
    "        prom = (anterior + siguiente) / 2\n",
    "        d[i] = prom\n",
    "\n",
    "    if i == len(p) - 1 and flag == False:\n",
    "        break\n",
    "    if i == len(p) - k - 1 and flag == True:  # i==7-4-1 = 2\n",
    "        p.reverse()\n",
    "        break\n",
    "\n",
    "    i+=1\n",
    "        \n",
    "d"
   ]
  }
 ],
 "metadata": {
  "kernelspec": {
   "display_name": ".venv_cdd",
   "language": "python",
   "name": "python3"
  },
  "language_info": {
   "codemirror_mode": {
    "name": "ipython",
    "version": 3
   },
   "file_extension": ".py",
   "mimetype": "text/x-python",
   "name": "python",
   "nbconvert_exporter": "python",
   "pygments_lexer": "ipython3",
   "version": "3.12.0"
  }
 },
 "nbformat": 4,
 "nbformat_minor": 2
}
